{
 "cells": [
  {
   "cell_type": "code",
   "execution_count": 1,
   "metadata": {},
   "outputs": [],
   "source": [
    "import numpy as np\n",
    "import matplotlib.pyplot as plt\n",
    "from scipy.io import loadmat\n",
    "import imageio\n",
    "import pandas as pd\n",
    "from zipfile import ZipFile\n",
    "from PIL import Image"
   ]
  },
  {
   "cell_type": "code",
   "execution_count": 2,
   "metadata": {},
   "outputs": [
    {
     "data": {
      "text/plain": [
       "array(['17/10000217_1981-05-05_2009.png', '12/100012_1948-07-03_2008.png',\n",
       "       '65/10001965_1930-05-23_1961.png', ...,\n",
       "       '09/9998109_1972-12-27_2013.png', '00/9999400_1981-12-13_2011.png',\n",
       "       '80/999980_1954-06-11_2008.png'], dtype=object)"
      ]
     },
     "execution_count": 2,
     "metadata": {},
     "output_type": "execute_result"
    }
   ],
   "source": [
    "metaData= loadmat(\"C:/Users/gurun/Desktop/2/wiki_labeled.mat\",squeeze_me= True , struct_as_record=True)\n",
    "Dateofbirth = metaData['wiki_labeled']['dob'].item(0)\n",
    "Dateofbirth\n",
    "full_path = metaData['wiki_labeled']['full_path'].item(0)\n",
    "full_path\n"
   ]
  },
  {
   "cell_type": "code",
   "execution_count": 3,
   "metadata": {},
   "outputs": [],
   "source": [
    "AGE = metaData['wiki_labeled']['age'].item(0)\n",
    "AGE\n",
    "import imageio\n",
    "im = imageio.imread(\"C:/Users/gurun/Desktop/2/wiki_labeled/\"+ full_path[0])\n",
    "im\n",
    "im = im.flatten()\n",
    "import numpy as np\n",
    "Images = np.empty((60327,10000))\n",
    "i = 0\n",
    "for f in full_path:\n",
    "    im = imageio.imread(\"C:/Users/gurun/Desktop/2/wiki_labeled/\"+f)\n",
    "    Images[i] =  im.flatten()\n",
    "    i = i+1"
   ]
  },
  {
   "cell_type": "code",
   "execution_count": 4,
   "metadata": {},
   "outputs": [],
   "source": [
    "ATrain = Images\n",
    "BTrain = AGE\n",
    "\n",
    "from sklearn.model_selection import train_test_split\n",
    "Atrain, Atest = train_test_split(ATrain, test_size=0.2, random_state=12457)\n",
    "\n",
    "Btrain, Btest = train_test_split(BTrain, test_size=0.2, random_state=12457)"
   ]
  },
  {
   "cell_type": "code",
   "execution_count": 5,
   "metadata": {},
   "outputs": [],
   "source": [
    "from sklearn.preprocessing import StandardScaler\n",
    "A_standard = StandardScaler().fit_transform(Atrain)"
   ]
  },
  {
   "cell_type": "code",
   "execution_count": 6,
   "metadata": {},
   "outputs": [
    {
     "data": {
      "text/plain": [
       "array([[-0.92722987, -0.93856414, -0.90046037, ..., -1.04301797,\n",
       "        -0.80879472, -0.2401972 ],\n",
       "       [ 1.34073168,  1.30907863,  1.33720808, ...,  0.76217648,\n",
       "         0.66111533,  0.54368782],\n",
       "       [-1.180566  , -1.18024615, -1.17865699, ..., -1.07795722,\n",
       "        -1.01721481, -1.01319493],\n",
       "       ...,\n",
       "       [ 0.18262365,  0.22150955,  0.27280363, ..., -0.89161457,\n",
       "        -0.79782524, -0.74101263],\n",
       "       [-0.16722148, -0.23768628, -0.30778062, ...,  1.49590068,\n",
       "         1.51673462,  1.51265681],\n",
       "       [ 0.95469567,  0.9586397 ,  0.96224742, ..., -0.75185758,\n",
       "        -0.71006942, -0.70835075]])"
      ]
     },
     "execution_count": 6,
     "metadata": {},
     "output_type": "execute_result"
    }
   ],
   "source": [
    "A_standard"
   ]
  },
  {
   "cell_type": "code",
   "execution_count": 7,
   "metadata": {},
   "outputs": [],
   "source": [
    "Mean_Vectors = np.mean(A_standard, axis=0)"
   ]
  },
  {
   "cell_type": "code",
   "execution_count": 8,
   "metadata": {},
   "outputs": [
    {
     "name": "stdout",
     "output_type": "stream",
     "text": [
      "Covariance matrix \n",
      "[[1.00002072 0.99069761 0.97670942 ... 0.37338502 0.37201165 0.37473141]\n",
      " [0.99069761 1.00002072 0.99071352 ... 0.37308208 0.37204657 0.374817  ]\n",
      " [0.97670942 0.99071352 1.00002072 ... 0.37286202 0.37219016 0.37508323]\n",
      " ...\n",
      " [0.37338502 0.37308208 0.37286202 ... 1.00002072 0.97921134 0.95667133]\n",
      " [0.37201165 0.37204657 0.37219016 ... 0.97921134 1.00002072 0.98519616]\n",
      " [0.37473141 0.374817   0.37508323 ... 0.95667133 0.98519616 1.00002072]]\n"
     ]
    }
   ],
   "source": [
    "Covariance_Matrix = (A_standard - Mean_Vectors).T.dot((A_standard - Mean_Vectors)) / (A_standard.shape[0]-1)\n",
    "print('Covariance matrix \\n%s' %Covariance_Matrix)"
   ]
  },
  {
   "cell_type": "code",
   "execution_count": 9,
   "metadata": {},
   "outputs": [],
   "source": [
    "Eigenvalue, Eigenvector = np.linalg.eig(Covariance_Matrix)"
   ]
  },
  {
   "cell_type": "code",
   "execution_count": 10,
   "metadata": {},
   "outputs": [
    {
     "name": "stdout",
     "output_type": "stream",
     "text": [
      "Displaying the Eigenvectors \n",
      "[[-4.30759874e-03 -2.28950032e-02 -9.53984834e-03 ... -1.06933567e-03\n",
      "  -1.79051881e-03 -6.08852930e-04]\n",
      " [-4.35774119e-03 -2.28334745e-02 -9.31016884e-03 ... -9.26472471e-04\n",
      "   5.28745941e-03  5.44781126e-03]\n",
      " [-4.39645065e-03 -2.27676769e-02 -8.96939459e-03 ...  7.99780771e-04\n",
      "  -5.95573653e-03 -5.06984287e-03]\n",
      " ...\n",
      " [-6.93558488e-03 -9.12553063e-03 -1.59643641e-02 ...  2.48562075e-03\n",
      "  -1.55718949e-03 -1.45552331e-03]\n",
      " [-7.79453444e-03 -7.46090949e-03 -1.54530710e-02 ...  3.71755991e-04\n",
      "   1.52333830e-03 -5.23430718e-04]\n",
      " [-7.84176173e-03 -7.41690606e-03 -1.55424458e-02 ... -6.59723751e-04\n",
      "   4.85901447e-05  3.70871452e-04]]\n",
      "\n",
      " Displaying the Eigenvalues \n",
      "[7.58567951e+03 8.17363756e+02 1.91024238e+02 ... 2.81869116e-04\n",
      " 2.82021836e-04 2.73722202e-04]\n"
     ]
    }
   ],
   "source": [
    "print('Displaying the Eigenvectors \\n%s' % Eigenvector)\n",
    "print('\\n Displaying the Eigenvalues \\n%s' %Eigenvalue)"
   ]
  },
  {
   "cell_type": "code",
   "execution_count": 11,
   "metadata": {},
   "outputs": [],
   "source": [
    "# Make a list of (eigenvalue, eigenvector) tuples\n",
    "Eigen_pairs = [(np.abs(Eigenvalue[i]), Eigenvector[:,i]) for i in range(len(Eigenvalue))]\n",
    "\n",
    "# Sort the (eigenvalue, eigenvector) tuples from high to low\n",
    "Eigen_pairs.sort()\n",
    "Eigen_pairs.reverse()"
   ]
  },
  {
   "cell_type": "code",
   "execution_count": 12,
   "metadata": {},
   "outputs": [],
   "source": [
    "Total = sum(Eigenvalue)\n",
    "var_exp = [(i / Total)*100 for i in sorted(Eigenvalue, reverse=True)]"
   ]
  },
  {
   "cell_type": "code",
   "execution_count": 13,
   "metadata": {},
   "outputs": [
    {
     "data": {
      "text/plain": [
       "<Figure size 432x288 with 0 Axes>"
      ]
     },
     "metadata": {},
     "output_type": "display_data"
    },
    {
     "data": {
      "image/png": "[encoded data removed]",
      "text/plain": [
       "<Figure size 720x360 with 1 Axes>"
      ]
     },
     "metadata": {
      "needs_background": "light"
     },
     "output_type": "display_data"
    }
   ],
   "source": [
    "plt.figure()\n",
    "f, ax = plt.subplots(figsize=(10,5))\n",
    "plt.bar(np.arange(70),var_exp[0:70])\n",
    "plt.xticks(np.arange(70), ['{}'.format(i) for i  in np.arange(1,71)])\n",
    "plt.show()"
   ]
  },
  {
   "cell_type": "code",
   "execution_count": 58,
   "metadata": {},
   "outputs": [
    {
     "name": "stdout",
     "output_type": "stream",
     "text": [
      "[[ 0.17407157  1.00851232  0.15801073 ... -0.13473508 -1.17538329\n",
      "   1.86225099]\n",
      " [ 0.09335766 -0.42314751 -1.10402415 ...  0.61457233 -1.4970938\n",
      "   1.64402795]\n",
      " [ 0.68365246  1.38669093 -0.41989301 ...  0.17356047 -0.14932459\n",
      "  -0.15141458]\n",
      " ...\n",
      " [ 0.13871389  0.97920745  0.84489988 ...  0.17367594  1.59022038\n",
      "   1.79140258]\n",
      " [-0.09409002  0.36260854  0.91690043 ...  0.42270915  1.65058181\n",
      "  -1.27043335]\n",
      " [-0.10459692 -0.54354946  0.68354786 ...  0.97365172 -0.84835355\n",
      "   1.79537931]]\n",
      "(12066, 20)\n"
     ]
    }
   ],
   "source": [
    "EigenPairs = Eigen_pairs[0:20]\n",
    "P = np.hstack( [i[1].reshape(10000, 1) for i in EigenPairs])\n",
    "\n",
    "Split_A = A_standard.dot(P)\n",
    "\n",
    "from sklearn.preprocessing import StandardScaler\n",
    "Atest_standard = StandardScaler().fit_transform(Atest)\n",
    "\n",
    "MeanVector = np.mean(A_standard, axis=0)\n",
    "\n",
    "Atest_standard = Atest_standard - MeanVector\n",
    "\n",
    "Split_AT = Atest_standard.dot(P)\n",
    "\n",
    "#Scaling \n",
    "from sklearn.preprocessing import StandardScaler\n",
    "sc = StandardScaler()\n",
    "Split_A = sc.fit_transform(Split_A)\n",
    "\n",
    "print(Split_A)\n",
    "\n",
    "print(Split_AT.shape)\n",
    "\n",
    "sc = StandardScaler()\n",
    "Split_AT = sc.fit_transform(Split_AT)\n",
    "Split_A = sc.fit_transform(Split_A)\n",
    "Split_AT= np.insert(Split_AT, 0, values=1, axis=1)\n"
   ]
  },
  {
   "cell_type": "code",
   "execution_count": 59,
   "metadata": {},
   "outputs": [],
   "source": [
    "def cal_cost(theta,X,y):\n",
    "    m = len(y)\n",
    "    \n",
    "    predictions = X.dot(theta)\n",
    "    cost = (1/2*m) * np.sum(np.square(predictions-y))\n",
    "    return cost\n",
    "\n",
    "def minibatch_gradient_descent(X,y,theta,learning_rate=0.01,iterations=10,batch_size=20):\n",
    "\n",
    "    m = len(y)\n",
    "    cost_history = np.zeros(iterations)\n",
    "    n_batches = int(m/batch_size)\n",
    "    \n",
    "    for it in range(iterations):\n",
    "        cost = 0.0\n",
    "        indices= np.random.permutation(m)\n",
    "        X = X[indices]\n",
    "        y = y[indices]\n",
    "        for i in range(0,m,batch_size):\n",
    "            X_i = X[i:i+batch_size]\n",
    "            y_i = y[i:i+batch_size]\n",
    "            \n",
    "            X_i = np.c_[np.ones(len(X_i)),X_i]\n",
    "            \n",
    "            prediction = np.dot(X_i,theta)\n",
    "            \n",
    "            theta = theta - (1/m)*learning_rate*(X_i.T.dot((prediction - y_i)))\n",
    "            \n",
    "            cost += cal_cost(theta, X_i, y_i)\n",
    "        cost_history[it] = cost\n",
    "    return theta, cost_history\n",
    "        \n",
    "\n"
   ]
  },
  {
   "cell_type": "code",
   "execution_count": 60,
   "metadata": {},
   "outputs": [],
   "source": [
    "lr = 0.1\n",
    "n_iter= 50\n",
    "\n",
    "theta = np.random.randn(21,1)"
   ]
  },
  {
   "cell_type": "code",
   "execution_count": 61,
   "metadata": {},
   "outputs": [
    {
     "data": {
      "text/plain": [
       "array([[ 3.62773249e+01,  3.63921537e+01,  3.62703074e+01,\n",
       "         3.64022612e+01,  3.65184276e+01,  3.63229340e+01,\n",
       "         3.63818942e+01,  3.65961727e+01,  3.63138843e+01,\n",
       "         3.64326773e+01,  3.63805873e+01,  3.63570382e+01,\n",
       "         3.64531324e+01,  3.64934960e+01,  3.62565518e+01,\n",
       "         3.64958537e+01,  3.61771010e+01,  3.64016644e+01,\n",
       "         3.64089480e+01,  3.63743251e+01],\n",
       "       [ 3.65289847e-02,  7.12214068e-02, -2.79966473e-04,\n",
       "         3.26682324e-02,  3.26414288e-02,  3.87572214e-02,\n",
       "         4.06739676e-02,  1.79867161e-02, -5.37147020e-03,\n",
       "         1.40172976e-02, -2.36506277e-02,  3.00167262e-02,\n",
       "         4.49398397e-02,  1.53447159e-03,  2.53576627e-02,\n",
       "         1.37516318e-02,  1.53904196e-02, -5.81165117e-04,\n",
       "        -3.53369254e-03,  1.42445547e-02],\n",
       "       [ 5.28629583e-02,  5.32626605e-02, -6.26299039e-04,\n",
       "        -1.97923196e-02,  3.12179043e-02,  3.38779334e-02,\n",
       "         1.31219343e-02,  3.16725765e-03,  2.06249823e-02,\n",
       "        -6.97121011e-03,  5.19650366e-02, -4.06928460e-03,\n",
       "         1.57868056e-02, -1.07044312e-02,  1.88681518e-02,\n",
       "        -3.16316934e-03,  7.51555489e-02,  1.77571029e-02,\n",
       "         2.85467248e-02, -1.90038001e-02],\n",
       "       [ 1.23268056e-01,  1.43029541e-01,  1.44840601e-01,\n",
       "         1.26749646e-01,  1.07556645e-01,  1.39138307e-01,\n",
       "         1.29899992e-01,  1.48668730e-01,  1.44371912e-01,\n",
       "         1.29785023e-01,  1.22179283e-01,  1.54317072e-01,\n",
       "         1.57048893e-01,  1.47736638e-01,  1.15547320e-01,\n",
       "         8.28241125e-02,  1.62550193e-01,  1.78304144e-01,\n",
       "         1.29287652e-01,  1.47691438e-01],\n",
       "       [-4.22096145e-02, -9.50823213e-02, -8.08791168e-02,\n",
       "        -3.90469285e-02, -3.81156604e-02, -6.94560162e-02,\n",
       "        -8.38860484e-02, -4.92244684e-02, -7.27430527e-02,\n",
       "        -9.42510271e-02, -5.29408795e-02, -8.99685369e-02,\n",
       "        -5.68554889e-02, -3.92307856e-02, -8.71738185e-02,\n",
       "        -9.04469518e-02, -1.40213339e-01, -7.86689072e-02,\n",
       "        -6.54673052e-02, -6.04656872e-02],\n",
       "       [-3.91186141e-02, -4.79678027e-03, -9.80072997e-03,\n",
       "        -3.46541533e-02, -1.26262189e-04, -6.38183255e-03,\n",
       "        -5.38852980e-03, -4.25952374e-02, -2.56514899e-02,\n",
       "        -3.59687612e-02, -2.40393493e-03, -1.95775276e-02,\n",
       "         8.39052956e-03,  5.54948916e-03, -9.98447903e-03,\n",
       "        -1.90582745e-02, -4.85856906e-02, -2.04872808e-03,\n",
       "        -4.43724946e-02, -1.62087775e-02],\n",
       "       [-1.41873603e-01, -9.38156861e-02, -1.32157449e-01,\n",
       "        -9.90787455e-02, -1.07575230e-01, -9.49257418e-02,\n",
       "        -7.93991327e-02, -1.22438216e-01, -1.32008869e-01,\n",
       "        -1.12248642e-01, -1.31714613e-01, -1.25037041e-01,\n",
       "        -1.21926108e-01, -1.16930626e-01, -1.28489202e-01,\n",
       "        -1.03542282e-01, -1.16302274e-01, -1.05861186e-01,\n",
       "        -9.44843209e-02, -1.02859468e-01],\n",
       "       [-1.61522251e-01, -1.78697391e-01, -1.82464734e-01,\n",
       "        -1.69391641e-01, -1.85718126e-01, -1.59370624e-01,\n",
       "        -1.88274483e-01, -1.41452320e-01, -1.86285104e-01,\n",
       "        -1.70350146e-01, -1.68078348e-01, -1.79582274e-01,\n",
       "        -1.73361265e-01, -1.70650745e-01, -1.93035482e-01,\n",
       "        -2.20737188e-01, -1.84936211e-01, -1.41024677e-01,\n",
       "        -1.80751443e-01, -1.76126434e-01],\n",
       "       [-4.07631692e-02, -4.75933354e-02, -5.68124077e-02,\n",
       "        -5.84069205e-02, -1.12015280e-01, -7.06560958e-02,\n",
       "        -7.91349589e-02, -6.54016719e-02, -5.16009775e-02,\n",
       "        -6.54825755e-02, -7.73155550e-02, -7.29546283e-02,\n",
       "        -6.21226109e-02, -8.68320724e-02, -9.15678811e-02,\n",
       "        -7.22027980e-02, -6.69055406e-02, -7.02659773e-02,\n",
       "        -7.81982376e-02, -1.10127337e-01],\n",
       "       [ 9.02605097e-02,  1.06356569e-01,  9.48451137e-02,\n",
       "         7.61998411e-02,  1.44813484e-01,  9.92989171e-02,\n",
       "         9.35626631e-02,  8.62216213e-02,  7.34513239e-02,\n",
       "         7.15955446e-02,  1.04520668e-01,  8.36974147e-02,\n",
       "         1.08411415e-01,  4.72495552e-02,  1.01487991e-01,\n",
       "         8.34705266e-02,  6.13554408e-02,  6.06992264e-02,\n",
       "         1.02340575e-01,  9.19744960e-02],\n",
       "       [-3.69913704e-02, -3.84708700e-02, -3.06808516e-02,\n",
       "        -4.67205733e-02, -3.28073033e-02, -2.02896995e-02,\n",
       "        -6.08828589e-02, -4.61061774e-02, -2.02607261e-02,\n",
       "        -5.20768759e-02,  1.28361381e-02, -5.04530292e-02,\n",
       "        -3.17033559e-02, -8.25076522e-02, -4.49258360e-02,\n",
       "        -5.03820564e-02, -6.17506472e-02, -1.49952123e-02,\n",
       "        -6.57666987e-02, -4.02390387e-02],\n",
       "       [ 3.20193168e-02,  2.10458141e-02,  1.06945354e-02,\n",
       "         3.76181502e-02, -2.07160369e-02,  3.52355203e-02,\n",
       "         5.28541630e-02,  7.89272638e-03,  4.09912703e-02,\n",
       "         1.77827032e-02,  5.88871041e-02,  4.53596029e-02,\n",
       "         5.49137005e-02,  5.56892375e-02,  6.62161710e-02,\n",
       "         4.58742140e-02, -3.86316065e-03,  4.26659832e-02,\n",
       "         1.10610526e-02,  1.70295646e-02],\n",
       "       [ 1.27736615e-03,  2.24085668e-02,  7.78769229e-03,\n",
       "        -2.37338387e-02,  3.08855194e-02,  2.16514204e-02,\n",
       "         2.55793874e-02, -2.22185732e-03, -2.71559317e-03,\n",
       "         4.30825401e-02,  2.16855273e-03, -9.75416597e-03,\n",
       "        -1.12850039e-02,  2.52029200e-02, -9.77221752e-03,\n",
       "         1.30294062e-02,  3.24246498e-02,  1.13381853e-02,\n",
       "         1.08886739e-02, -3.84796679e-03],\n",
       "       [ 8.02423467e-02,  5.08736684e-02,  1.01427977e-03,\n",
       "         2.31629776e-03, -1.00199508e-02,  1.26795026e-02,\n",
       "         6.61305163e-03,  5.14617303e-02,  2.24038429e-02,\n",
       "         4.93026191e-02,  4.47216441e-02,  3.20304500e-02,\n",
       "         4.37756261e-02,  3.36600620e-02,  1.89754857e-02,\n",
       "         4.62923344e-02,  2.46150254e-02,  3.86326996e-02,\n",
       "         3.74643048e-02,  1.76878606e-02],\n",
       "       [ 1.30455056e-02,  4.24177726e-02,  8.66182662e-02,\n",
       "         5.70631123e-02,  8.00218022e-02,  9.03910347e-02,\n",
       "         4.45226365e-02,  3.09964568e-02,  2.32237420e-02,\n",
       "         4.36310581e-02,  4.45247594e-02,  3.72616236e-02,\n",
       "         5.94913115e-02,  8.26850685e-02,  9.77907824e-02,\n",
       "         3.85972520e-02,  6.13770944e-02,  1.22045648e-02,\n",
       "         4.88701541e-02,  3.29247586e-02],\n",
       "       [ 1.13869488e-02, -1.19665197e-02, -1.57802602e-02,\n",
       "         5.72214508e-04, -1.40543071e-02, -1.21099916e-02,\n",
       "         1.45686150e-02,  1.55750841e-02,  2.26230724e-02,\n",
       "         8.36706840e-03,  4.66828721e-02, -9.57778478e-04,\n",
       "        -2.10403793e-02,  1.28146316e-02, -8.73097493e-03,\n",
       "        -7.54607974e-03,  5.35471645e-02, -1.77807907e-02,\n",
       "         4.58635185e-02, -1.26539660e-02],\n",
       "       [-2.14674897e-02, -2.68443512e-02, -1.76752395e-02,\n",
       "        -8.59755707e-03, -1.14037443e-02, -6.40605597e-02,\n",
       "         4.40977006e-03, -5.04596783e-02, -2.48658024e-02,\n",
       "        -5.23724606e-02, -1.50673968e-02, -2.44702538e-02,\n",
       "        -1.94358629e-02, -2.12613208e-02,  8.77492373e-03,\n",
       "        -4.98781702e-03, -1.95697492e-02, -2.17286427e-02,\n",
       "         1.84625301e-02, -2.44499386e-02],\n",
       "       [ 3.18459595e-02,  2.30833823e-02,  2.60663880e-02,\n",
       "         1.77098787e-02,  5.10822735e-02, -4.97023273e-03,\n",
       "         2.59488423e-02,  3.38306066e-02,  4.15635941e-02,\n",
       "         6.57242818e-02,  5.46723353e-03,  9.33203113e-03,\n",
       "         6.59536952e-02,  3.57770432e-02,  1.56941497e-02,\n",
       "         1.03905042e-02,  6.61783037e-02,  9.37644592e-03,\n",
       "        -8.43345502e-03,  4.30946415e-02],\n",
       "       [-4.87821806e-02, -5.56678981e-02, -6.36671474e-03,\n",
       "        -2.50110277e-02, -6.52375896e-03, -2.81677973e-02,\n",
       "        -4.92238208e-02, -2.56762863e-02, -2.98487714e-02,\n",
       "        -1.39468814e-03,  3.17352148e-02, -3.25841095e-03,\n",
       "        -3.42111433e-06, -2.89011988e-02,  2.87564319e-02,\n",
       "        -2.50451469e-02, -2.63946459e-02, -1.58449737e-02,\n",
       "         1.59236267e-02, -1.63104242e-02],\n",
       "       [ 4.92928774e-02,  3.49830831e-02,  6.16054250e-02,\n",
       "         4.09199594e-02,  6.29129033e-02,  4.13493852e-02,\n",
       "         2.92038742e-02,  2.13377527e-02,  4.04308759e-02,\n",
       "         3.54150738e-02,  4.48123749e-02,  4.28141931e-02,\n",
       "         1.42784161e-02,  2.92803368e-02, -6.41187738e-03,\n",
       "         5.53181999e-02,  1.15958787e-02,  3.75780818e-02,\n",
       "         5.95541664e-02,  3.89016063e-02],\n",
       "       [-5.96749433e-02, -2.64706849e-02, -2.58960288e-02,\n",
       "        -5.15933467e-03, -1.88405798e-02, -5.04812125e-02,\n",
       "        -4.94462200e-02, -4.41429706e-02, -2.79061675e-02,\n",
       "        -2.90802407e-02, -4.92832332e-02, -1.06444599e-02,\n",
       "        -1.06935547e-02, -3.14350883e-02, -1.93866861e-02,\n",
       "        -3.68693437e-02, -4.94000599e-03, -3.54595056e-02,\n",
       "        -6.55948194e-02, -1.46837990e-02]])"
      ]
     },
     "execution_count": 61,
     "metadata": {},
     "output_type": "execute_result"
    }
   ],
   "source": [
    "\n",
    "theta,cost_history = minibatch_gradient_descent(Split_A,Btrain,theta,lr,n_iter)\n",
    "\n",
    "theta\n"
   ]
  },
  {
   "cell_type": "code",
   "execution_count": null,
   "metadata": {},
   "outputs": [],
   "source": []
  }
 ],
 "metadata": {
  "kernelspec": {
   "display_name": "Python 3",
   "language": "python",
   "name": "python3"
  },
  "language_info": {
   "codemirror_mode": {
    "name": "ipython",
    "version": 3
   },
   "file_extension": ".py",
   "mimetype": "text/x-python",
   "name": "python",
   "nbconvert_exporter": "python",
   "pygments_lexer": "ipython3",
   "version": "3.7.1"
  }
 },
 "nbformat": 4,
 "nbformat_minor": 2
}
